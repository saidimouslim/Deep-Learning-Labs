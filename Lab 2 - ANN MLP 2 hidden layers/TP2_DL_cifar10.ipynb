(50000, 32, 32, 3)
(50000, 1)
array([7], dtype=uint8)
<Figure size 640x480 with 1 Axes>
Epoch 1/50
313/313 [==============================] - 6s 16ms/step - loss: 2.0696 - accuracy: 0.2555 - val_loss: 1.9231 - val_accuracy: 0.3095
Epoch 2/50
313/313 [==============================] - 3s 11ms/step - loss: 1.8695 - accuracy: 0.3402 - val_loss: 1.8561 - val_accuracy: 0.3393
Epoch 3/50
313/313 [==============================] - 3s 11ms/step - loss: 1.7983 - accuracy: 0.3663 - val_loss: 1.7991 - val_accuracy: 0.3534
Epoch 4/50
313/313 [==============================] - 4s 14ms/step - loss: 1.7526 - accuracy: 0.3807 - val_loss: 1.7405 - val_accuracy: 0.3849
Epoch 5/50
313/313 [==============================] - 3s 10ms/step - loss: 1.7154 - accuracy: 0.3972 - val_loss: 1.7201 - val_accuracy: 0.3880
Epoch 6/50
313/313 [==============================] - 3s 11ms/step - loss: 1.6850 - accuracy: 0.4069 - val_loss: 1.6895 - val_accuracy: 0.4021
Epoch 7/50
313/313 [==============================] - 4s 11ms/step - loss: 1.6578 - accuracy: 0.4163 - val_loss: 1.6674 - val_accuracy: 0.4039
Epoch 8/50
313/313 [==============================] - 4s 14ms/step - loss: 1.6346 - accuracy: 0.4239 - val_loss: 1.6443 - val_accuracy: 0.4149
Epoch 9/50
313/313 [==============================] - 4s 13ms/step - loss: 1.6138 - accuracy: 0.4329 - val_loss: 1.6463 - val_accuracy: 0.4165
Epoch 10/50
313/313 [==============================] - 6s 20ms/step - loss: 1.5961 - accuracy: 0.4378 - val_loss: 1.6069 - val_accuracy: 0.4307
Epoch 11/50
313/313 [==============================] - 5s 15ms/step - loss: 1.5781 - accuracy: 0.4432 - val_loss: 1.6388 - val_accuracy: 0.4114
Epoch 12/50
313/313 [==============================] - 3s 11ms/step - loss: 1.5635 - accuracy: 0.4489 - val_loss: 1.6639 - val_accuracy: 0.4126
Epoch 13/50
...
Epoch 49/50
313/313 [==============================] - 4s 11ms/step - loss: 1.2677 - accuracy: 0.5536 - val_loss: 1.4719 - val_accuracy: 0.4861
Epoch 50/50
313/313 [==============================] - 3s 10ms/step - loss: 1.2601 - accuracy: 0.5560 - val_loss: 1.4149 - val_accuracy: 0.4998
Output is truncated. View as a scrollable element or open in a text editor. Adjust cell output settings...
<Figure size 640x480 with 1 Axes>
<Figure size 640x480 with 1 Axes>
